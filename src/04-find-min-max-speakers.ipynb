{
 "cells": [
  {
   "cell_type": "code",
   "execution_count": 3,
   "metadata": {
    "scrolled": true
   },
   "outputs": [
    {
     "ename": "ValueError",
     "evalue": "invalid literal for int() with base 10: 'Speaker/Rating'",
     "output_type": "error",
     "traceback": [
      "\u001b[0;31m---------------------------------------------------------------------------\u001b[0m",
      "\u001b[0;31mValueError\u001b[0m                                Traceback (most recent call last)",
      "\u001b[0;32m<ipython-input-3-60a6ab5a1cfb>\u001b[0m in \u001b[0;36m<module>\u001b[0;34m()\u001b[0m\n\u001b[1;32m     25\u001b[0m \u001b[0;34m\u001b[0m\u001b[0m\n\u001b[1;32m     26\u001b[0m \u001b[0;32mfor\u001b[0m \u001b[0mrow\u001b[0m \u001b[0;32min\u001b[0m \u001b[0mrange\u001b[0m\u001b[0;34m(\u001b[0m\u001b[0;36m1\u001b[0m\u001b[0;34m,\u001b[0m\u001b[0mfirst_sheet\u001b[0m\u001b[0;34m.\u001b[0m\u001b[0mnrows\u001b[0m\u001b[0;34m)\u001b[0m\u001b[0;34m:\u001b[0m\u001b[0;34m\u001b[0m\u001b[0m\n\u001b[0;32m---> 27\u001b[0;31m     \u001b[0mspeaker_id\u001b[0m \u001b[0;34m=\u001b[0m \u001b[0mint\u001b[0m\u001b[0;34m(\u001b[0m\u001b[0mfirst_sheet\u001b[0m\u001b[0;34m.\u001b[0m\u001b[0mcell\u001b[0m\u001b[0;34m(\u001b[0m\u001b[0mrow\u001b[0m\u001b[0;34m,\u001b[0m\u001b[0;36m0\u001b[0m\u001b[0;34m)\u001b[0m\u001b[0;34m.\u001b[0m\u001b[0mvalue\u001b[0m\u001b[0;34m)\u001b[0m\u001b[0;34m\u001b[0m\u001b[0m\n\u001b[0m\u001b[1;32m     28\u001b[0m     \u001b[0mupdateNumOfRaterToSpeaker\u001b[0m\u001b[0;34m(\u001b[0m\u001b[0mspeaker_id\u001b[0m\u001b[0;34m)\u001b[0m\u001b[0;34m\u001b[0m\u001b[0m\n\u001b[1;32m     29\u001b[0m \u001b[0;34m\u001b[0m\u001b[0m\n",
      "\u001b[0;31mValueError\u001b[0m: invalid literal for int() with base 10: 'Speaker/Rating'"
     ]
    }
   ],
   "source": [
    "#There are <1000 rows of data - code to find minimum and max speakers\n",
    "#in the file speaker-human-rating.csv each of the human rating for each speaker, is represented by a single row. \n",
    "#It is time consuming to find the minimum and maximum number of speakers to substitute the value, 'n' in the formula\n",
    "#to calculate Fleiss' Kappa. Hence this script simplifies the process of finding minimum and maximum number of speakers for all the speakers.\n",
    "#Chiranth \n",
    "\n",
    "import xlrd\n",
    "xl = xlrd.open_workbook('../output/kappa_calculation.xlsx')\n",
    "#Read the xls sheet into the object\n",
    "first_sheet = xl.sheet_by_index(0)\n",
    "\n",
    "#Map to store speaker ID and its raters count. \n",
    "#Map key is speaker ID and map value is rater count. \n",
    "spker_map = dict()\n",
    "\n",
    "#Find the speaker ID in the map. \n",
    "#if present, increment its number of raters by 1\n",
    "#if not present, initialize the number of raters to 1\n",
    "def updateNumOfRaterToSpeaker(speakerID):\n",
    "    try:\n",
    "        current = spker_map[speakerID]\n",
    "        spker_map[speakerID] = current + 1\n",
    "    except:\n",
    "        spker_map[speakerID] = 1\n",
    "\n",
    "for row in range(1,first_sheet.nrows):\n",
    "    speaker_id = int(first_sheet.cell(row,0).value)\n",
    "    updateNumOfRaterToSpeaker(speaker_id)\n",
    "    \n",
    "#Generate the list of values of the map to get the number of raters for speakers.    \n",
    "print (\"Minimum num of speakers = \" , min(spker_map.values()))\n",
    "print (\"Maximum num of speakers = \" , max(spker_map.values()))"
   ]
  },
  {
   "cell_type": "code",
   "execution_count": null,
   "metadata": {},
   "outputs": [],
   "source": []
  }
 ],
 "metadata": {
  "kernelspec": {
   "display_name": "Python 3",
   "language": "python",
   "name": "python3"
  },
  "language_info": {
   "codemirror_mode": {
    "name": "ipython",
    "version": 3
   },
   "file_extension": ".py",
   "mimetype": "text/x-python",
   "name": "python",
   "nbconvert_exporter": "python",
   "pygments_lexer": "ipython3",
   "version": "3.6.4"
  }
 },
 "nbformat": 4,
 "nbformat_minor": 2
}
