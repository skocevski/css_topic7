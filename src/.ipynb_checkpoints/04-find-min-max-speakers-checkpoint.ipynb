{
 "cells": [
  {
   "cell_type": "code",
   "execution_count": 9,
   "metadata": {},
   "outputs": [
    {
     "name": "stdout",
     "output_type": "stream",
     "text": [
      "Minimum num of speakers =  7\n",
      "Maximum num of speakers =  17\n"
     ]
    }
   ],
   "source": [
    "#There are <1000 rows of data - code to find minimum and max speakers\n",
    "\n",
    "import xlrd\n",
    "xl = xlrd.open_workbook('speaker-human-rating.xlsx')\n",
    "#Read the xls sheet into the object\n",
    "first_sheet = xl.sheet_by_index(0)\n",
    "\n",
    "#Map to store speaker ID and its raters count. \n",
    "#Map key is speaker ID and map value is rater count. \n",
    "spker_map = dict()\n",
    "\n",
    "#Find the speaker ID in the map. \n",
    "#if present, increment its number of raters by 1\n",
    "#if not present, initialize the number of raters to 1\n",
    "def updateNumOfRaterToSpeaker(speakerID):\n",
    "    try:\n",
    "        current = spker_map[speakerID]\n",
    "        spker_map[speakerID] = current + 1\n",
    "    except:\n",
    "        spker_map[speakerID] = 1\n",
    "\n",
    "for row in range(1,first_sheet.nrows):\n",
    "    speaker_id = int(first_sheet.cell(row,0).value)\n",
    "    updateNumOfRaterToSpeaker(speaker_id)\n",
    "    \n",
    "#Generate the list of values of the map to get the number of raters for speakers.    \n",
    "print (\"Minimum num of speakers = \" , min(spker_map.values()))\n",
    "print (\"Maximum num of speakers = \" , max(spker_map.values()))"
   ]
  }
 ],
 "metadata": {
  "kernelspec": {
   "display_name": "Python 3",
   "language": "python",
   "name": "python3"
  },
  "language_info": {
   "codemirror_mode": {
    "name": "ipython",
    "version": 3
   },
   "file_extension": ".py",
   "mimetype": "text/x-python",
   "name": "python",
   "nbconvert_exporter": "python",
   "pygments_lexer": "ipython3",
   "version": "3.6.4"
  }
 },
 "nbformat": 4,
 "nbformat_minor": 2
}
