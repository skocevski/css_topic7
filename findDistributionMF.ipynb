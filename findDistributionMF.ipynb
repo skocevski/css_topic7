from sightengine.client import SightengineClient
import os
import random
import json
import requests
import csv


imgs = os.listdir("./Images")
maleSpeakers = []
femaleSpeaker = []

sightengineKeys = [
        {'user': '1229174978', 'password': 'kzHudxY77wEGp8GrJw4b', 'from': 0, 'until': int(len(imgs) /2) },
        {'user': '601300168', 'password': '6XoY4VzHfFSthCsacWeg', 'from': int(len(imgs) /2) + 1, 'until': len(imgs) } ]

for key in range (0, len(sightengineKeys)):
    client = SightengineClient(sightengineKeys[key]["user"], sightengineKeys[key]["password"])
    for i in range(sightengineKeys[key]["from"], sightengineKeys[key]["until"]):
        print("detecting gender...", i, "/", len(imgs), imgs[i])
        try:
            output = client.check('face-attributes').set_file("./Images/" + imgs[i])
            femalescore = output["faces"][0]["attributes"]["female"]
            malescore = output["faces"][0]["attributes"]["male"]
        except:
            print("something went wrong")  
            continue
        if(femalescore >  malescore): femaleSpeaker.append(imgs[i])
        else: maleSpeakers.append(imgs[i])   

my_randomMales = random.sample(range(0, len(maleSpeakers)), 60)
myRandomFelames = random.sample(range(0, len(femaleSpeaker)), 40)

finalImgList = []

for number in my_randomMales:
    finalImgList.append(maleSpeakers[number])
#    
for number in myRandomFelames:
    finalImgList.append(femaleSpeaker[number])
    
    

haystackKeys = [
        {'key': '83aba910c356d1449a1969d7cfc6fd08', 'from': 0, 'until': 20},
        {'key': 'b9ead54306d49ff41c8ef9cb36458b9e','from': 20, 'until': 40},
        {'key': '03505c92b26b6dd0d7469d988c8af63d','from': 40, 'until': 60},
        {'key': 'af0dd641124836c83f1c699cbb25e3d0','from': 60, 'until': 80},
        {'key': '799acf9d87faa448f184b0aa10d9b303','from': 80, 'until': 101}]

scored = []
for key in range(0, len(haystackKeys)):
    for i in range(haystackKeys[key]["from"], haystackKeys[key]["until"]):
        try:
            print("scoring...", i, len(finalImgList), finalImgList[i])
            r = requests.post( "https://api.haystack.ai/api/image/analyze?output=json&apikey=" + haystackKeys[key]["key"] ,data=open("./Images/" + finalImgList[i], 'rb'))
            json_data = json.loads(r.text)
            if(json_data['people']):
                if finalImgList[i] in femaleSpeaker:
                    gender = 'f'
                else: gender = 'm'
                scored.append(type('',(object,),{'img':finalImgList[i],'score':json_data['people'][0]['attractiveness'],'gender':gender})())
        except OSError as err:
            print("ERROR", format(err))  


        
with open('data2.csv', 'w') as csvfile:
    fieldnames = ['Image','gender', 'API score', 'Human rating']
    writer = csv.DictWriter(csvfile, fieldnames=fieldnames)

    writer.writeheader()
    for row in range(0, len(scored)):
        writer.writerow({'Image': scored[row].img, 
                         'gender': scored[row].gender, 
                         'API score': scored[row].score, 
                         'Human rating':''})